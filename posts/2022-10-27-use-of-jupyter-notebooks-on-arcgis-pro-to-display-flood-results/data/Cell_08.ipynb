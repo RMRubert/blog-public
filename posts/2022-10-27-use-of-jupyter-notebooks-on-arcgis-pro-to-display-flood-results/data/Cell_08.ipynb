{
 "cells": [
  {
   "cell_type": "code",
   "execution_count": null,
   "metadata": {},
   "outputs": [],
   "source": [
    "# Fill the list with the saving path, must be a raw string define as r\"STRING\"\n",
    "# Remember it must match the position shown on cell 6.\n",
    "pathto = [\n",
    "    r\"C:\\temp\\DPT_High.png\",\n",
    "    r\"C:\\temp\\DPT_Low-.png\",\n",
    "    r\"C:\\temp\\DPT_Medi.png\",\n",
    "    r\"C:\\temp\\VEL_High.png\",\n",
    "    r\"C:\\temp\\VEL_Low-.png\",\n",
    "    r\"C:\\temp\\VEL_Medi.png\",\n",
    "    r\"C:\\temp\\WSE_High.png\",\n",
    "    r\"C:\\temp\\WSE_Low-.png\",\n",
    "    r\"C:\\temp\\WSE_Medi.png\"\n",
    "]"
   ]
  }
 ],
 "metadata": {
  "kernelspec": {
   "display_name": "Python 3.10.8 64-bit",
   "language": "python",
   "name": "python3"
  },
  "language_info": {
   "name": "python",
   "version": "3.10.8"
  },
  "orig_nbformat": 4,
  "vscode": {
   "interpreter": {
    "hash": "2377b559ba11525a1f322096522851194cf28745c92ce58dff59bf0b77a1fa79"
   }
  }
 },
 "nbformat": 4,
 "nbformat_minor": 2
}
