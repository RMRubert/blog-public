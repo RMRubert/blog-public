{
 "cells": [
  {
   "cell_type": "code",
   "execution_count": null,
   "metadata": {},
   "outputs": [
    {
     "name": "stdout",
     "output_type": "stream",
     "text": [
      "0: Depth (High)\n",
      "1: Depth (Low)\n",
      "2: Depth (Medium)\n",
      "3: Velocity (High)\n",
      "4: Velocity (Low)\n",
      "5: Velocity (Medium)\n",
      "6: WSE (High)\n",
      "7: WSE (Low)\n",
      "8: WSE (Medium)\n",
      "Exporting : 0 : C:\\temp\\DPT_High.png\n",
      "Exporting : 1 : C:\\temp\\DPT_Low-.png\n",
      "Exporting : 2 : C:\\temp\\DPT_Medi.png\n",
      "Exporting : 3 : C:\\temp\\VEL_High.png\n",
      "Exporting : 4 : C:\\temp\\VEL_Low-.png\n",
      "Exporting : 5 : C:\\temp\\VEL_Medi.png\n",
      "Exporting : 6 : C:\\temp\\WSE_High.png\n",
      "Exporting : 7 : C:\\temp\\WSE_Low-.png\n",
      "Exporting : 8 : C:\\temp\\WSE_Medi.png\n",
      "FINISHED\n"
     ]
    }
   ],
   "source": [
    "for j in range(len(layoutsel)):\n",
    "    # Select layout from layoutsel\n",
    "    lyd = aprx.listLayouts()[layoutsel[j]]\n",
    "    exppath = pathto[j]\n",
    "    # Change map to only visible\n",
    "    onlyvis(mpr,unvis0,unvis1+1,j+unvis0)\n",
    "    # Export\n",
    "    print(\"Exporting : \"+str(j)+\" : \"+exppath)\n",
    "    lyd.exportToPNG(exppath,resolution = 300)\n",
    "print(\"FINISHED\")"
   ]
  }
 ],
 "metadata": {
  "kernelspec": {
   "display_name": "Python 3.10.8 64-bit",
   "language": "python",
   "name": "python3"
  },
  "language_info": {
   "name": "python",
   "version": "3.10.8"
  },
  "orig_nbformat": 4,
  "vscode": {
   "interpreter": {
    "hash": "2377b559ba11525a1f322096522851194cf28745c92ce58dff59bf0b77a1fa79"
   }
  }
 },
 "nbformat": 4,
 "nbformat_minor": 2
}
