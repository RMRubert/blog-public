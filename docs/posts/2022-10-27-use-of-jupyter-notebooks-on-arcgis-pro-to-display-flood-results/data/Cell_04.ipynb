{
 "cells": [
  {
   "cell_type": "code",
   "execution_count": null,
   "metadata": {},
   "outputs": [
    {
     "name": "stdout",
     "output_type": "stream",
     "text": [
      "0: Depth (High)\n",
      "1: Depth (Low)\n",
      "2: Depth (Medium)\n",
      "3: Velocity (High)\n",
      "4: Velocity (Low)\n",
      "5: Velocity (Medium)\n",
      "6: WSE (High)\n",
      "7: WSE (Low)\n",
      "8: WSE (Medium)\n",
      "9: Ground Elevation\n",
      "10: World Hillshade\n",
      "11: World Topographic Map\n"
     ]
    }
   ],
   "source": [
    "# Show list of Layers\n",
    "i=0\n",
    "for m in mpr.listLayers():\n",
    "    print( str(i) + \": \"+ m.name )\n",
    "    i=i+1"
   ]
  }
 ],
 "metadata": {
  "kernelspec": {
   "display_name": "Python 3.10.8 64-bit",
   "language": "python",
   "name": "python3"
  },
  "language_info": {
   "name": "python",
   "version": "3.10.8"
  },
  "orig_nbformat": 4,
  "vscode": {
   "interpreter": {
    "hash": "2377b559ba11525a1f322096522851194cf28745c92ce58dff59bf0b77a1fa79"
   }
  }
 },
 "nbformat": 4,
 "nbformat_minor": 2
}
