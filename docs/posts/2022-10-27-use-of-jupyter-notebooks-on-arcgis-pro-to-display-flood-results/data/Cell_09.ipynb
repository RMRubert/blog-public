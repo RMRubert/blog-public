{
 "cells": [
  {
   "cell_type": "code",
   "execution_count": null,
   "metadata": {},
   "outputs": [],
   "source": [
    "# Create a vector with what layout each variable will be using\n",
    "# In this example 0 is Velocity, 1 is WSE and 2 is Depth as per cell 8.\n",
    "# It must match the position of the cell 6\n",
    "\n",
    "layoutsel = [0,0,0,2,2,2,1,1,1]"
   ]
  }
 ],
 "metadata": {
  "kernelspec": {
   "display_name": "Python 3.10.8 64-bit",
   "language": "python",
   "name": "python3"
  },
  "language_info": {
   "name": "python",
   "version": "3.10.8"
  },
  "orig_nbformat": 4,
  "vscode": {
   "interpreter": {
    "hash": "2377b559ba11525a1f322096522851194cf28745c92ce58dff59bf0b77a1fa79"
   }
  }
 },
 "nbformat": 4,
 "nbformat_minor": 2
}
