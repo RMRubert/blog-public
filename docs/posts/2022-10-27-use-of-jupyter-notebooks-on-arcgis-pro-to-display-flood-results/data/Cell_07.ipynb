{
 "cells": [
  {
   "cell_type": "code",
   "execution_count": null,
   "metadata": {},
   "outputs": [],
   "source": [
    "# Don't change anything in this function unless you know what are you doing\n",
    "# But run the cell to define the function\n",
    "def onlyvis(mpr,novis0,novis1,vis):\n",
    "    # Makes everything invisible from novis0 to novis1 then makes vis visible in the mpr map\n",
    "    i=novis0\n",
    "    for m in mpr.listLayers()[novis0:novis1]:\n",
    "        m.visible = False\n",
    "        if (novis0==vis):\n",
    "            print( str(i)+\": \"+m.name)\n",
    "        i=i+1\n",
    "\n",
    "    mpr.listLayers()[vis].visible = True\n"
   ]
  }
 ],
 "metadata": {
  "kernelspec": {
   "display_name": "Python 3.10.8 64-bit",
   "language": "python",
   "name": "python3"
  },
  "language_info": {
   "name": "python",
   "version": "3.10.8"
  },
  "orig_nbformat": 4,
  "vscode": {
   "interpreter": {
    "hash": "2377b559ba11525a1f322096522851194cf28745c92ce58dff59bf0b77a1fa79"
   }
  }
 },
 "nbformat": 4,
 "nbformat_minor": 2
}
