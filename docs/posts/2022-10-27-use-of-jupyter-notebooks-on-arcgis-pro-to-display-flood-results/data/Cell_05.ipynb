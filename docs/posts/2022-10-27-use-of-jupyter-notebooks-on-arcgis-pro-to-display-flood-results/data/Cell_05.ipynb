{
 "cells": [
  {
   "cell_type": "code",
   "execution_count": null,
   "metadata": {},
   "outputs": [],
   "source": [
    "# Select the boundaries of the layers to be changed\n",
    "unvis0 = 0\n",
    "unvis1 = 8"
   ]
  }
 ],
 "metadata": {
  "kernelspec": {
   "display_name": "Python 3.10.8 64-bit",
   "language": "python",
   "name": "python3"
  },
  "language_info": {
   "name": "python",
   "version": "3.10.8"
  },
  "orig_nbformat": 4,
  "vscode": {
   "interpreter": {
    "hash": "2377b559ba11525a1f322096522851194cf28745c92ce58dff59bf0b77a1fa79"
   }
  }
 },
 "nbformat": 4,
 "nbformat_minor": 2
}
